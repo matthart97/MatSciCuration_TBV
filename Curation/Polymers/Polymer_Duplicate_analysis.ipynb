{
 "cells": [
  {
   "cell_type": "code",
   "execution_count": 54,
   "metadata": {},
   "outputs": [],
   "source": [
    "\n",
    "\n",
    "from scipy.spatial.distance import squareform, pdist\n",
    "\n",
    "\n",
    "\n",
    "\n",
    "from psmiles import PolymerSmiles as PS\n",
    "import pandas as pd \n",
    "from rdkit import Chem\n",
    "from rdkit.Chem import AllChem\n",
    "from typing import List\n",
    "import numpy as np"
   ]
  },
  {
   "cell_type": "code",
   "execution_count": 55,
   "metadata": {},
   "outputs": [
    {
     "name": "stderr",
     "output_type": "stream",
     "text": [
      "/tmp/ipykernel_2422306/3751766381.py:1: DtypeWarning: Columns (19,20,21,22,23,24,25,26,27) have mixed types. Specify dtype option on import or set low_memory=False.\n",
      "  df = pd.read_csv('/home/matt/Proj/MatSciCuration_TBV/Data/Polymers/PolymerDescriptors.csv')\n"
     ]
    }
   ],
   "source": [
    "df = pd.read_csv('/home/matt/Proj/MatSciCuration_TBV/Data/Polymers/PolymerDescriptors.csv')"
   ]
  },
  {
   "attachments": {},
   "cell_type": "markdown",
   "metadata": {},
   "source": [
    "# PSMILES struture analysis\n",
    "First we can look at duplicates on a Psmiles basis, since we have canonicalized them"
   ]
  },
  {
   "cell_type": "code",
   "execution_count": 56,
   "metadata": {},
   "outputs": [
    {
     "data": {
      "text/html": [
       "<div>\n",
       "<style scoped>\n",
       "    .dataframe tbody tr th:only-of-type {\n",
       "        vertical-align: middle;\n",
       "    }\n",
       "\n",
       "    .dataframe tbody tr th {\n",
       "        vertical-align: top;\n",
       "    }\n",
       "\n",
       "    .dataframe thead th {\n",
       "        text-align: right;\n",
       "    }\n",
       "</style>\n",
       "<table border=\"1\" class=\"dataframe\">\n",
       "  <thead>\n",
       "    <tr style=\"text-align: right;\">\n",
       "      <th></th>\n",
       "      <th>PSMILES</th>\n",
       "      <th>Molar_volume</th>\n",
       "      <th>Density</th>\n",
       "      <th>Solubility_Parameter</th>\n",
       "      <th>Molar_cohesive_E</th>\n",
       "      <th>Glass_trans</th>\n",
       "      <th>Molar_heat_cap</th>\n",
       "      <th>Entaglement_MolWeight</th>\n",
       "      <th>Index_refraction</th>\n",
       "      <th>Molar_Weight_Repeat</th>\n",
       "      <th>VanDerWaal</th>\n",
       "      <th>Molar_Volume_comp</th>\n",
       "      <th>Density_Comp</th>\n",
       "      <th>Solubility_Parameter_comp</th>\n",
       "      <th>Molar_cohesive_E_comp</th>\n",
       "      <th>Glass_trans_comp</th>\n",
       "      <th>Molar_heat_cap_comp</th>\n",
       "      <th>Entaglement_MolWeight_comp</th>\n",
       "      <th>Index_refreaction_comp</th>\n",
       "      <th>Polymer_Class</th>\n",
       "      <th>Common_names</th>\n",
       "      <th>Structural_name</th>\n",
       "      <th>CAS</th>\n",
       "      <th>CAS_Monomer</th>\n",
       "      <th>Common_names_Monomer</th>\n",
       "      <th>SMILES_Monomer</th>\n",
       "      <th>Std_InChI_Monomer</th>\n",
       "      <th>Std_InChIKey_Monomer</th>\n",
       "      <th>atomization energy (eV/atom)</th>\n",
       "      <th>electron affinity (eV)</th>\n",
       "      <th>band gap bulk (eV)</th>\n",
       "      <th>band gap chain (eV)</th>\n",
       "      <th>Ionization energy (eV)</th>\n",
       "      <th>crystallization tendency (%)</th>\n",
       "      <th>dielectric constant DFT</th>\n",
       "      <th>fp_0</th>\n",
       "      <th>fp_1</th>\n",
       "      <th>fp_2</th>\n",
       "      <th>fp_3</th>\n",
       "      <th>fp_4</th>\n",
       "      <th>...</th>\n",
       "      <th>fp_2008</th>\n",
       "      <th>fp_2009</th>\n",
       "      <th>fp_2010</th>\n",
       "      <th>fp_2011</th>\n",
       "      <th>fp_2012</th>\n",
       "      <th>fp_2013</th>\n",
       "      <th>fp_2014</th>\n",
       "      <th>fp_2015</th>\n",
       "      <th>fp_2016</th>\n",
       "      <th>fp_2017</th>\n",
       "      <th>fp_2018</th>\n",
       "      <th>fp_2019</th>\n",
       "      <th>fp_2020</th>\n",
       "      <th>fp_2021</th>\n",
       "      <th>fp_2022</th>\n",
       "      <th>fp_2023</th>\n",
       "      <th>fp_2024</th>\n",
       "      <th>fp_2025</th>\n",
       "      <th>fp_2026</th>\n",
       "      <th>fp_2027</th>\n",
       "      <th>fp_2028</th>\n",
       "      <th>fp_2029</th>\n",
       "      <th>fp_2030</th>\n",
       "      <th>fp_2031</th>\n",
       "      <th>fp_2032</th>\n",
       "      <th>fp_2033</th>\n",
       "      <th>fp_2034</th>\n",
       "      <th>fp_2035</th>\n",
       "      <th>fp_2036</th>\n",
       "      <th>fp_2037</th>\n",
       "      <th>fp_2038</th>\n",
       "      <th>fp_2039</th>\n",
       "      <th>fp_2040</th>\n",
       "      <th>fp_2041</th>\n",
       "      <th>fp_2042</th>\n",
       "      <th>fp_2043</th>\n",
       "      <th>fp_2044</th>\n",
       "      <th>fp_2045</th>\n",
       "      <th>fp_2046</th>\n",
       "      <th>fp_2047</th>\n",
       "    </tr>\n",
       "  </thead>\n",
       "  <tbody>\n",
       "  </tbody>\n",
       "</table>\n",
       "<p>0 rows × 2083 columns</p>\n",
       "</div>"
      ],
      "text/plain": [
       "Empty DataFrame\n",
       "Columns: [PSMILES, Molar_volume, Density, Solubility_Parameter, Molar_cohesive_E, Glass_trans, Molar_heat_cap, Entaglement_MolWeight, Index_refraction, Molar_Weight_Repeat, VanDerWaal, Molar_Volume_comp, Density_Comp, Solubility_Parameter_comp, Molar_cohesive_E_comp, Glass_trans_comp, Molar_heat_cap_comp, Entaglement_MolWeight_comp, Index_refreaction_comp, Polymer_Class, Common_names, Structural_name, CAS, CAS_Monomer, Common_names_Monomer, SMILES_Monomer, Std_InChI_Monomer, Std_InChIKey_Monomer, atomization energy (eV/atom), electron affinity (eV), band gap bulk (eV), band gap chain (eV), Ionization energy (eV), crystallization tendency (%), dielectric constant DFT, fp_0, fp_1, fp_2, fp_3, fp_4, fp_5, fp_6, fp_7, fp_8, fp_9, fp_10, fp_11, fp_12, fp_13, fp_14, fp_15, fp_16, fp_17, fp_18, fp_19, fp_20, fp_21, fp_22, fp_23, fp_24, fp_25, fp_26, fp_27, fp_28, fp_29, fp_30, fp_31, fp_32, fp_33, fp_34, fp_35, fp_36, fp_37, fp_38, fp_39, fp_40, fp_41, fp_42, fp_43, fp_44, fp_45, fp_46, fp_47, fp_48, fp_49, fp_50, fp_51, fp_52, fp_53, fp_54, fp_55, fp_56, fp_57, fp_58, fp_59, fp_60, fp_61, fp_62, fp_63, fp_64, ...]\n",
       "Index: []\n",
       "\n",
       "[0 rows x 2083 columns]"
      ]
     },
     "execution_count": 56,
     "metadata": {},
     "output_type": "execute_result"
    }
   ],
   "source": [
    "# check for duplicates frist\n",
    "\n",
    "df[df['PSMILES'].duplicated()]"
   ]
  },
  {
   "attachments": {},
   "cell_type": "markdown",
   "metadata": {},
   "source": [
    "Most dufplicates ofor PSMILES were taken care of by canonicalization"
   ]
  },
  {
   "attachments": {},
   "cell_type": "markdown",
   "metadata": {},
   "source": [
    "# fingerprint based "
   ]
  },
  {
   "cell_type": "code",
   "execution_count": 57,
   "metadata": {},
   "outputs": [],
   "source": [
    "# separate out the fingerprints of our dataframe\n",
    "Fingerprint_matrix = df.filter(regex='fp_')"
   ]
  },
  {
   "cell_type": "code",
   "execution_count": 58,
   "metadata": {},
   "outputs": [],
   "source": [
    "dist = pd.DataFrame(squareform(pdist(Fingerprint_matrix.iloc[:, 1:])))"
   ]
  },
  {
   "cell_type": "code",
   "execution_count": 59,
   "metadata": {},
   "outputs": [],
   "source": [
    "# we have a potential duplicate when there is a very low distance between points\n",
    "#change matrix to numpy for faster runtime\n",
    "Dist = dist.to_numpy()\n",
    "flaglist = []\n",
    "#iterate over top triangle of distance matrix \n",
    "q = len(Dist)\n",
    "for i in range(1,q-1):\n",
    "  for j in range(i+1,q):\n",
    "    z = Dist[i][j]\n",
    "    if z == 0.0:\n",
    "      flaglist.append((i,j))\n",
    "    else:\n",
    "      continue\n",
    "     "
   ]
  },
  {
   "cell_type": "code",
   "execution_count": 60,
   "metadata": {},
   "outputs": [
    {
     "data": {
      "text/plain": [
       "50"
      ]
     },
     "execution_count": 60,
     "metadata": {},
     "output_type": "execute_result"
    }
   ],
   "source": [
    "len(set(flaglist))"
   ]
  },
  {
   "cell_type": "code",
   "execution_count": 61,
   "metadata": {},
   "outputs": [
    {
     "data": {
      "text/plain": [
       "[(171, 3397),\n",
       " (178, 3682),\n",
       " (178, 3698),\n",
       " (436, 3821),\n",
       " (596, 3657),\n",
       " (603, 3480),\n",
       " (606, 3660),\n",
       " (683, 3556),\n",
       " (714, 3678),\n",
       " (714, 3706),\n",
       " (714, 3735),\n",
       " (1493, 1494),\n",
       " (1518, 1519),\n",
       " (1583, 1586),\n",
       " (1640, 1647),\n",
       " (1640, 1718),\n",
       " (1641, 1642),\n",
       " (1647, 1718),\n",
       " (2058, 2183),\n",
       " (2159, 2160),\n",
       " (2184, 2185),\n",
       " (2974, 2975),\n",
       " (2974, 2976),\n",
       " (2975, 2976),\n",
       " (3481, 3516),\n",
       " (3487, 3508),\n",
       " (3487, 3557),\n",
       " (3487, 3695),\n",
       " (3488, 3509),\n",
       " (3508, 3557),\n",
       " (3508, 3695),\n",
       " (3552, 3679),\n",
       " (3552, 3720),\n",
       " (3552, 3739),\n",
       " (3553, 3664),\n",
       " (3553, 3737),\n",
       " (3557, 3695),\n",
       " (3664, 3737),\n",
       " (3671, 3744),\n",
       " (3678, 3706),\n",
       " (3678, 3735),\n",
       " (3679, 3720),\n",
       " (3679, 3739),\n",
       " (3682, 3698),\n",
       " (3705, 3711),\n",
       " (3706, 3735),\n",
       " (3712, 3723),\n",
       " (3712, 3740),\n",
       " (3720, 3739),\n",
       " (3723, 3740)]"
      ]
     },
     "execution_count": 61,
     "metadata": {},
     "output_type": "execute_result"
    }
   ],
   "source": [
    "flaglist"
   ]
  },
  {
   "cell_type": "markdown",
   "metadata": {},
   "source": [
    "We have 50 potential duplicates, so lest look at them pairwise"
   ]
  },
  {
   "cell_type": "code",
   "execution_count": 62,
   "metadata": {},
   "outputs": [],
   "source": [
    "polymers = df['PSMILES']"
   ]
  },
  {
   "cell_type": "code",
   "execution_count": 63,
   "metadata": {},
   "outputs": [
    {
     "data": {
      "text/plain": [
       "[['[*]CCc1ccc([*])c(Cl)c1', '[*]CCc1ccc([*])cc1Cl'],\n",
       " ['[*]CCCCCCCCC(=O)NCCCCCCCCCCNC([*])=O',\n",
       "  '[*]CCCCCCCCCCC(=O)NCCCCCCCCNC([*])=O'],\n",
       " ['[*]CCCCCCCCC(=O)NCCCCCCCCCCNC([*])=O',\n",
       "  '[*]CCCCCCCCCC(=O)NCCCCCCCCCNC([*])=O'],\n",
       " ['[*]NC(=O)OCCCCCOC(=O)Nc1ccc(C)c([*])c1',\n",
       "  '[*]NC(=O)OCCCCCOC(=O)Nc1cc([*])ccc1C'],\n",
       " ['[*]CCCCCCC(=O)OCCCCCCCCCCCCCCCCOC([*])=O',\n",
       "  '[*]CCCCCCCCCCC(=O)OCCCCCCCCCCCCOC([*])=O'],\n",
       " ['[*]CCCCCCCCCCCCCCCCC(=O)OCCCCCCCCCCOC([*])=O',\n",
       "  '[*]CCCCCCC(=O)OCCCCCCCCCCCCCCCCCCCCOC([*])=O'],\n",
       " ['[*]CCCCCCC(=O)OCCCCCCCCCCCCCCOC([*])=O',\n",
       "  '[*]CCCCCCCCCCC(=O)OCCCCCCCCCCOC([*])=O'],\n",
       " ['[*]CCCCCCCC(=O)NCCCCCCCCCCNC([*])=O',\n",
       "  '[*]CCCCCCCCC(=O)NCCCCCCCCCNC([*])=O'],\n",
       " ['[*]CCCCCCCCCCCC(=O)NCCCCCCCCCCCCCNC([*])=O',\n",
       "  '[*]CCCCCCCCCCC(=O)NCCCCCCCCCCCCCCNC([*])=O'],\n",
       " ['[*]CCCCCCCCCCCC(=O)NCCCCCCCCCCCCCNC([*])=O',\n",
       "  '[*]CCCCCCCCCCCCC(=O)NCCCCCCCCCCCCNC([*])=O'],\n",
       " ['[*]CCCCCCCCCCCC(=O)NCCCCCCCCCCCCCNC([*])=O',\n",
       "  '[*]CCCCCCCCCCCCCCC(=O)NCCCCCCCCCCNC([*])=O'],\n",
       " ['[*]c1ccc(Oc2ccc(-c3cnc4cc5nc([*])cnc5cc4n3)cc2)cc1',\n",
       "  '[*]c1ccc(Oc2ccc(-c3cnc4cc5ncc([*])nc5cc4n3)cc2)cc1'],\n",
       " ['[*]c1ccc(-c2cnc3cc4nc([*])cnc4cc3n2)cc1',\n",
       "  '[*]c1ccc(-c2cnc3cc4ncc([*])nc4cc3n2)cc1'],\n",
       " ['[*]c1ccc(-c2nc3cc4nc(-c5ccccc5)c([*])nc4cc3nc2-c2ccccc2)cc1',\n",
       "  '[*]c1ccc(-c2nc3cc4nc([*])c(-c5ccccc5)nc4cc3nc2-c2ccccc2)cc1'],\n",
       " ['[*]c1ccc2nc(-c3ccc(-c4nc5ccc([*])cc5nc4-c4ccccc4)cc3)c(-c3ccccc3)nc2c1',\n",
       "  '[*]c1ccc2nc(-c3ccccc3)c(-c3ccc(-c4nc5cc([*])ccc5nc4-c4ccccc4)cc3)nc2c1'],\n",
       " ['[*]c1ccc2nc(-c3ccc(-c4nc5ccc([*])cc5nc4-c4ccccc4)cc3)c(-c3ccccc3)nc2c1',\n",
       "  '[*]c1ccc2nc(-c3ccc(-c4nc5cc([*])ccc5nc4-c4ccccc4)cc3)c(-c3ccccc3)nc2c1'],\n",
       " ['[*]c1ccc2nc(-c3ccc(Oc4ccc(-c5nc6cc([*])ccc6nc5-c5ccccc5)cc4)cc3)c(-c3ccccc3)nc2c1',\n",
       "  '[*]c1ccc2nc(-c3ccc(Oc4ccc(-c5nc6ccc([*])cc6nc5-c5ccccc5)cc4)cc3)c(-c3ccccc3)nc2c1'],\n",
       " ['[*]c1ccc2nc(-c3ccccc3)c(-c3ccc(-c4nc5cc([*])ccc5nc4-c4ccccc4)cc3)nc2c1',\n",
       "  '[*]c1ccc2nc(-c3ccc(-c4nc5cc([*])ccc5nc4-c4ccccc4)cc3)c(-c3ccccc3)nc2c1'],\n",
       " ['[*]Oc1ccc(Oc2ccc(OC(=O)c3ccc(Oc4ccc(Oc5ccc(C([*])=O)cc5)cc4)cc3)cc2)cc1',\n",
       "  '[*]Oc1ccc(Oc2ccc(Oc3ccc(OC(=O)c4ccc(Oc5ccc(C([*])=O)cc5)cc4)cc3)cc2)cc1'],\n",
       " ['[*]Oc1ccc2nc(-c3ccc(-c4nc5cc([*])ccc5nc4-c4ccccc4)cc3)c(-c3ccccc3)nc2c1',\n",
       "  '[*]Oc1ccc2nc(-c3ccc(-c4nc5ccc([*])cc5nc4-c4ccccc4)cc3)c(-c3ccccc3)nc2c1'],\n",
       " ['[*]Oc1ccc(Oc2ccc(Oc3ccc(OC(=O)c4ccc(Oc5ccc(Oc6ccc(C([*])=O)cc6)cc5)cc4)cc3)cc2)cc1',\n",
       "  '[*]Oc1ccc(Oc2ccc(Oc3ccc(Oc4ccc(OC(=O)c5ccc(Oc6ccc(C([*])=O)cc6)cc5)cc4)cc3)cc2)cc1'],\n",
       " ['[*]C(=O)c1ccc2nc(-c3ccc(-c4nc5ccc([*])cc5nc4-c4ccccc4)cc3)c(-c3ccccc3)nc2c1',\n",
       "  '[*]C(=O)c1ccc2nc(-c3ccccc3)c(-c3ccc(-c4nc5cc([*])ccc5nc4-c4ccccc4)cc3)nc2c1'],\n",
       " ['[*]C(=O)c1ccc2nc(-c3ccc(-c4nc5ccc([*])cc5nc4-c4ccccc4)cc3)c(-c3ccccc3)nc2c1',\n",
       "  '[*]C(=O)c1ccc2nc(-c3ccccc3)c(-c3ccc(-c4nc5ccc([*])cc5nc4-c4ccccc4)cc3)nc2c1'],\n",
       " ['[*]C(=O)c1ccc2nc(-c3ccccc3)c(-c3ccc(-c4nc5cc([*])ccc5nc4-c4ccccc4)cc3)nc2c1',\n",
       "  '[*]C(=O)c1ccc2nc(-c3ccccc3)c(-c3ccc(-c4nc5ccc([*])cc5nc4-c4ccccc4)cc3)nc2c1'],\n",
       " ['[*]CCCCCCC(=O)OCCCCCCCCCCOC([*])=O', '[*]CCCCCCCC(=O)OCCCCCCCCCOC([*])=O'],\n",
       " ['[*]CCCCCCCC(=O)NCCCCCCCCCNC([*])=O', '[*]CCCCCCC(=O)NCCCCCCCCCCNC([*])=O'],\n",
       " ['[*]CCCCCCCC(=O)NCCCCCCCCCNC([*])=O', '[*]CCCCCCCCC(=O)NCCCCCCCCNC([*])=O'],\n",
       " ['[*]CCCCCCCC(=O)NCCCCCCCCCNC([*])=O', '[*]CCCCCCCCCC(=O)NCCCCCCCNC([*])=O'],\n",
       " ['[*]CCCCCCCC(=O)NCCCCCCCNC([*])=O', '[*]CCCCCCC(=O)NCCCCCCCCNC([*])=O'],\n",
       " ['[*]CCCCCCC(=O)NCCCCCCCCCCNC([*])=O', '[*]CCCCCCCCC(=O)NCCCCCCCCNC([*])=O'],\n",
       " ['[*]CCCCCCC(=O)NCCCCCCCCCCNC([*])=O', '[*]CCCCCCCCCC(=O)NCCCCCCCNC([*])=O'],\n",
       " ['[*]CCCCCCCCC(=O)NCCCCCCCCCCCCCCNC([*])=O',\n",
       "  '[*]CCCCCCCCCCC(=O)NCCCCCCCCCCCCNC([*])=O'],\n",
       " ['[*]CCCCCCCCC(=O)NCCCCCCCCCCCCCCNC([*])=O',\n",
       "  '[*]CCCCCCCCCCCCC(=O)NCCCCCCCCCCNC([*])=O'],\n",
       " ['[*]CCCCCCCCC(=O)NCCCCCCCCCCCCCCNC([*])=O',\n",
       "  '[*]CCCCCCCCCCCCCCC(=O)NCCCCCCCCNC([*])=O'],\n",
       " ['[*]CCCCCCCCC(=O)NCCCCCCCCCCCCNC([*])=O',\n",
       "  '[*]CCCCCCCCCCCC(=O)NCCCCCCCCCNC([*])=O'],\n",
       " ['[*]CCCCCCCCC(=O)NCCCCCCCCCCCCNC([*])=O',\n",
       "  '[*]CCCCCCCCCCCCC(=O)NCCCCCCCCNC([*])=O'],\n",
       " ['[*]CCCCCCCCC(=O)NCCCCCCCCNC([*])=O', '[*]CCCCCCCCCC(=O)NCCCCCCCNC([*])=O'],\n",
       " ['[*]CCCCCCCCCCCC(=O)NCCCCCCCCCNC([*])=O',\n",
       "  '[*]CCCCCCCCCCCCC(=O)NCCCCCCCCNC([*])=O'],\n",
       " ['[*]CCCCCCCCC(=O)OCCCCCCCCCCCCCCCCOC([*])=O',\n",
       "  '[*]CCCCCCCCCCCCC(=O)OCCCCCCCCCCCCOC([*])=O'],\n",
       " ['[*]CCCCCCCCCCC(=O)NCCCCCCCCCCCCCCNC([*])=O',\n",
       "  '[*]CCCCCCCCCCCCC(=O)NCCCCCCCCCCCCNC([*])=O'],\n",
       " ['[*]CCCCCCCCCCC(=O)NCCCCCCCCCCCCCCNC([*])=O',\n",
       "  '[*]CCCCCCCCCCCCCCC(=O)NCCCCCCCCCCNC([*])=O'],\n",
       " ['[*]CCCCCCCCCCC(=O)NCCCCCCCCCCCCNC([*])=O',\n",
       "  '[*]CCCCCCCCCCCCC(=O)NCCCCCCCCCCNC([*])=O'],\n",
       " ['[*]CCCCCCCCCCC(=O)NCCCCCCCCCCCCNC([*])=O',\n",
       "  '[*]CCCCCCCCCCCCCCC(=O)NCCCCCCCCNC([*])=O'],\n",
       " ['[*]CCCCCCCCCCC(=O)NCCCCCCCCNC([*])=O',\n",
       "  '[*]CCCCCCCCCC(=O)NCCCCCCCCCNC([*])=O'],\n",
       " ['[*]CCCCCCCCCCC(=O)NCCCCCCCCCCCCCCCCCCNC([*])=O',\n",
       "  '[*]CCCCCCCCCCCCCCCCC(=O)NCCCCCCCCCCCCNC([*])=O'],\n",
       " ['[*]CCCCCCCCCCCCC(=O)NCCCCCCCCCCCCNC([*])=O',\n",
       "  '[*]CCCCCCCCCCCCCCC(=O)NCCCCCCCCCCNC([*])=O'],\n",
       " ['[*]CCCCCCCCCCCCCCCCC(=O)NCCCCCCCCCCNC([*])=O',\n",
       "  '[*]CCCCCCCCCCCCCCCCCCC(=O)NCCCCCCCCNC([*])=O'],\n",
       " ['[*]CCCCCCCCCCCCCCCCC(=O)NCCCCCCCCCCNC([*])=O',\n",
       "  '[*]CCCCCCCCCCCCCCC(=O)NCCCCCCCCCCCCNC([*])=O'],\n",
       " ['[*]CCCCCCCCCCCCC(=O)NCCCCCCCCCCNC([*])=O',\n",
       "  '[*]CCCCCCCCCCCCCCC(=O)NCCCCCCCCNC([*])=O'],\n",
       " ['[*]CCCCCCCCCCCCCCCCCCC(=O)NCCCCCCCCNC([*])=O',\n",
       "  '[*]CCCCCCCCCCCCCCC(=O)NCCCCCCCCCCCCNC([*])=O']]"
      ]
     },
     "execution_count": 63,
     "metadata": {},
     "output_type": "execute_result"
    }
   ],
   "source": [
    "pairs = []\n",
    "for i,j in flaglist:\n",
    "    pairs.append([polymers[i],polymers[j]])\n",
    "\n",
    "pairs"
   ]
  },
  {
   "cell_type": "code",
   "execution_count": 64,
   "metadata": {},
   "outputs": [],
   "source": [
    "# visually inspect a few of the duplicates\n",
    "obs1 = df[df['PSMILES']=='[*]c1ccc(Oc2ccc(-c3cnc4cc5nc([*])cnc5cc4n3)cc2)cc1']\n",
    "obs2 = df[df['PSMILES']=='[*]c1ccc(Oc2ccc(-c3cnc4cc5ncc([*])nc5cc4n3)cc2)cc1']\n",
    "\n",
    "smi1 =obs1['PSMILES'].to_numpy()[0]\n",
    "smi2 =obs2['PSMILES'].to_numpy()[0]\n"
   ]
  },
  {
   "cell_type": "code",
   "execution_count": null,
   "metadata": {},
   "outputs": [],
   "source": []
  },
  {
   "cell_type": "code",
   "execution_count": 65,
   "metadata": {},
   "outputs": [
    {
     "data": {
      "text/plain": [
       "'[*]c1ccc(Oc2ccc(-c3cnc4cc5nc([*])cnc5cc4n3)cc2)cc1'"
      ]
     },
     "execution_count": 65,
     "metadata": {},
     "output_type": "execute_result"
    }
   ],
   "source": [
    "smi1"
   ]
  },
  {
   "cell_type": "code",
   "execution_count": 66,
   "metadata": {},
   "outputs": [],
   "source": [
    "ps = PS(str(smi1))"
   ]
  },
  {
   "cell_type": "code",
   "execution_count": 67,
   "metadata": {},
   "outputs": [
    {
     "data": {
      "text/plain": [
       "<psmiles.psmiles.PolymerSmiles at 0x7f943e91a620>"
      ]
     },
     "execution_count": 67,
     "metadata": {},
     "output_type": "execute_result"
    }
   ],
   "source": [
    "ps"
   ]
  },
  {
   "cell_type": "code",
   "execution_count": 68,
   "metadata": {},
   "outputs": [
    {
     "data": {
      "text/plain": [
       "<psmiles.psmiles.PolymerSmiles at 0x7f943e91ab30>"
      ]
     },
     "execution_count": 68,
     "metadata": {},
     "output_type": "execute_result"
    }
   ],
   "source": [
    "PS(smi2)"
   ]
  },
  {
   "cell_type": "code",
   "execution_count": 69,
   "metadata": {},
   "outputs": [
    {
     "data": {
      "text/plain": [
       "<psmiles.psmiles.PolymerSmiles at 0x7f943e91b7c0>"
      ]
     },
     "execution_count": 69,
     "metadata": {},
     "output_type": "execute_result"
    }
   ],
   "source": [
    "from psmiles import PolymerSmiles as PS\n",
    "\n",
    "ps1 = PS(\"[*]C=C[*]\")\n",
    "ps1"
   ]
  },
  {
   "attachments": {},
   "cell_type": "markdown",
   "metadata": {},
   "source": [
    "The 50 data points found were very similar molecules, but were techically differnt. \n",
    "Th is means that our descriptor method has a hard time distinguishing between 50 pairs of points. Somehting to keep in mind in these machine learnign studies."
   ]
  },
  {
   "cell_type": "code",
   "execution_count": null,
   "metadata": {},
   "outputs": [],
   "source": []
  },
  {
   "cell_type": "markdown",
   "metadata": {},
   "source": []
  }
 ],
 "metadata": {
  "kernelspec": {
   "display_name": "polymer",
   "language": "python",
   "name": "polymer"
  },
  "language_info": {
   "codemirror_mode": {
    "name": "ipython",
    "version": 3
   },
   "file_extension": ".py",
   "mimetype": "text/x-python",
   "name": "python",
   "nbconvert_exporter": "python",
   "pygments_lexer": "ipython3",
   "version": "3.10.9"
  },
  "orig_nbformat": 4
 },
 "nbformat": 4,
 "nbformat_minor": 2
}
