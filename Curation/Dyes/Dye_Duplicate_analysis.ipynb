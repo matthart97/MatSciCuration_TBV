{
 "cells": [
  {
   "cell_type": "code",
   "execution_count": 3,
   "metadata": {},
   "outputs": [],
   "source": [
    "\n",
    "\n",
    "from scipy.spatial.distance import squareform, pdist\n",
    "\n",
    "from tqdm import tqdm\n",
    "\n",
    "from rdkit.Chem import AllChem\n",
    "import pandas as pd \n",
    "from rdkit import Chem\n",
    "from rdkit.Chem import AllChem\n",
    "from typing import List\n",
    "import numpy as np"
   ]
  },
  {
   "cell_type": "code",
   "execution_count": 4,
   "metadata": {},
   "outputs": [
    {
     "name": "stderr",
     "output_type": "stream",
     "text": [
      "/tmp/ipykernel_4145927/1312042341.py:1: DtypeWarning: Columns (2,13,14) have mixed types. Specify dtype option on import or set low_memory=False.\n",
      "  df = pd.read_csv('/home/matt/Proj/MatSciCuration_TBV/Data/Dyes/DyeDescriptors.csv')\n"
     ]
    }
   ],
   "source": [
    "df = pd.read_csv('/home/matt/Proj/MatSciCuration_TBV/Data/Dyes/DyeDescriptors.csv')"
   ]
  },
  {
   "cell_type": "code",
   "execution_count": 5,
   "metadata": {},
   "outputs": [
    {
     "data": {
      "text/html": [
       "<div>\n",
       "<style scoped>\n",
       "    .dataframe tbody tr th:only-of-type {\n",
       "        vertical-align: middle;\n",
       "    }\n",
       "\n",
       "    .dataframe tbody tr th {\n",
       "        vertical-align: top;\n",
       "    }\n",
       "\n",
       "    .dataframe thead th {\n",
       "        text-align: right;\n",
       "    }\n",
       "</style>\n",
       "<table border=\"1\" class=\"dataframe\">\n",
       "  <thead>\n",
       "    <tr style=\"text-align: right;\">\n",
       "      <th></th>\n",
       "      <th>SMILES</th>\n",
       "      <th>Tag</th>\n",
       "      <th>Solvent</th>\n",
       "      <th>Absorption max (nm)</th>\n",
       "      <th>Emission max (nm)</th>\n",
       "      <th>Lifetime (ns)</th>\n",
       "      <th>Quantum yield</th>\n",
       "      <th>log(e/mol-1 dm3 cm-1)</th>\n",
       "      <th>abs FWHM (cm-1)</th>\n",
       "      <th>emi FWHM (cm-1)</th>\n",
       "      <th>...</th>\n",
       "      <th>fp_1014</th>\n",
       "      <th>fp_1015</th>\n",
       "      <th>fp_1016</th>\n",
       "      <th>fp_1017</th>\n",
       "      <th>fp_1018</th>\n",
       "      <th>fp_1019</th>\n",
       "      <th>fp_1020</th>\n",
       "      <th>fp_1021</th>\n",
       "      <th>fp_1022</th>\n",
       "      <th>fp_1023</th>\n",
       "    </tr>\n",
       "  </thead>\n",
       "  <tbody>\n",
       "  </tbody>\n",
       "</table>\n",
       "<p>0 rows × 1054 columns</p>\n",
       "</div>"
      ],
      "text/plain": [
       "Empty DataFrame\n",
       "Columns: [SMILES, Tag, Solvent, Absorption max (nm), Emission max (nm), Lifetime (ns), Quantum yield, log(e/mol-1 dm3 cm-1), abs FWHM (cm-1), emi FWHM (cm-1), abs FWHM (nm), emi FWHM (nm), Molecular weight (g mol-1), Reference, identifier, vie, aie, vea, aea, hl, s0s1, s0t1, hr, cr2, cr1, er, ar1, ar2, lumo, homo, fp_0, fp_1, fp_2, fp_3, fp_4, fp_5, fp_6, fp_7, fp_8, fp_9, fp_10, fp_11, fp_12, fp_13, fp_14, fp_15, fp_16, fp_17, fp_18, fp_19, fp_20, fp_21, fp_22, fp_23, fp_24, fp_25, fp_26, fp_27, fp_28, fp_29, fp_30, fp_31, fp_32, fp_33, fp_34, fp_35, fp_36, fp_37, fp_38, fp_39, fp_40, fp_41, fp_42, fp_43, fp_44, fp_45, fp_46, fp_47, fp_48, fp_49, fp_50, fp_51, fp_52, fp_53, fp_54, fp_55, fp_56, fp_57, fp_58, fp_59, fp_60, fp_61, fp_62, fp_63, fp_64, fp_65, fp_66, fp_67, fp_68, fp_69, ...]\n",
       "Index: []\n",
       "\n",
       "[0 rows x 1054 columns]"
      ]
     },
     "execution_count": 5,
     "metadata": {},
     "output_type": "execute_result"
    }
   ],
   "source": [
    "df[df['SMILES'].duplicated()]"
   ]
  },
  {
   "cell_type": "code",
   "execution_count": 7,
   "metadata": {},
   "outputs": [
    {
     "name": "stderr",
     "output_type": "stream",
     "text": [
      "100%|██████████| 31850/31850 [01:23<00:00, 380.16it/s] \n"
     ]
    }
   ],
   "source": [
    "Fingerprint_matrix = df.filter(regex='fp_')\n",
    "dist = pd.DataFrame(squareform(pdist(Fingerprint_matrix.iloc[:, 1:])))\n",
    "\n",
    "\n",
    "# we have a potential duplicate when there is a very low distance between points\n",
    "#change matrix to numpy for faster runtime\n",
    "Dist = dist.to_numpy()\n",
    "flaglist = []\n",
    "#iterate over top triangle of distance matrix \n",
    "q = len(Dist)\n",
    "\n",
    "\n",
    "for i in tqdm(range(1,q-1)):\n",
    "  for j in range(i+1,q):\n",
    "    z = Dist[i][j]\n",
    "    if z == 0.0:\n",
    "      flaglist.append((i,j))\n",
    "    else:\n",
    "      continue\n",
    "     "
   ]
  },
  {
   "cell_type": "code",
   "execution_count": 9,
   "metadata": {},
   "outputs": [
    {
     "data": {
      "text/plain": [
       "494"
      ]
     },
     "execution_count": 9,
     "metadata": {},
     "output_type": "execute_result"
    }
   ],
   "source": [
    "len(flaglist)"
   ]
  },
  {
   "cell_type": "code",
   "execution_count": 14,
   "metadata": {},
   "outputs": [],
   "source": [
    "t1 = df['SMILES'][flaglist[0][0]]"
   ]
  },
  {
   "cell_type": "code",
   "execution_count": 19,
   "metadata": {},
   "outputs": [
    {
     "data": {
      "text/plain": [
       "'c1csc(-c2ccc(-c3ccc(-c4ccc(-c5cccs5)s4)s3)s2)c1'"
      ]
     },
     "execution_count": 19,
     "metadata": {},
     "output_type": "execute_result"
    }
   ],
   "source": [
    "t1"
   ]
  },
  {
   "cell_type": "code",
   "execution_count": 17,
   "metadata": {},
   "outputs": [],
   "source": [
    "t2 =df['SMILES'][flaglist[0][0]]"
   ]
  },
  {
   "cell_type": "code",
   "execution_count": 20,
   "metadata": {},
   "outputs": [
    {
     "data": {
      "text/plain": [
       "'c1csc(-c2ccc(-c3ccc(-c4ccc(-c5cccs5)s4)s3)s2)c1'"
      ]
     },
     "execution_count": 20,
     "metadata": {},
     "output_type": "execute_result"
    }
   ],
   "source": [
    "t2"
   ]
  },
  {
   "cell_type": "code",
   "execution_count": 12,
   "metadata": {},
   "outputs": [
    {
     "data": {
      "text/plain": [
       "34"
      ]
     },
     "execution_count": 12,
     "metadata": {},
     "output_type": "execute_result"
    }
   ],
   "source": [
    "flaglist[0][0]"
   ]
  },
  {
   "cell_type": "code",
   "execution_count": 13,
   "metadata": {},
   "outputs": [
    {
     "data": {
      "text/plain": [
       "37"
      ]
     },
     "execution_count": 13,
     "metadata": {},
     "output_type": "execute_result"
    }
   ],
   "source": [
    "flaglist[0][1]"
   ]
  },
  {
   "cell_type": "code",
   "execution_count": 16,
   "metadata": {},
   "outputs": [
    {
     "data": {
      "image/png": "[encoded data removed]",
      "text/plain": [
       "<rdkit.Chem.rdchem.Mol at 0x7fedbb51da10>"
      ]
     },
     "execution_count": 16,
     "metadata": {},
     "output_type": "execute_result"
    }
   ],
   "source": [
    "mol = Chem.MolFromSmiles(t1)\n",
    "mol"
   ]
  },
  {
   "cell_type": "code",
   "execution_count": 18,
   "metadata": {},
   "outputs": [
    {
     "data": {
      "image/png": "[encoded data removed]",
      "text/plain": [
       "<rdkit.Chem.rdchem.Mol at 0x7fedbb51dc40>"
      ]
     },
     "execution_count": 18,
     "metadata": {},
     "output_type": "execute_result"
    }
   ],
   "source": [
    "mol2 = Chem.MolFromSmiles(t2)\n",
    "mol2"
   ]
  },
  {
   "cell_type": "code",
   "execution_count": 22,
   "metadata": {},
   "outputs": [
    {
     "data": {
      "text/plain": [
       "SMILES                 c1csc(-c2ccc(-c3ccc(-c4ccc(-c5cccs5)s4)s3)s2)c1\n",
       "Tag                                                             9426.0\n",
       "Solvent                                                           CC#N\n",
       "Absorption max (nm)                                              413.0\n",
       "Emission max (nm)                                                479.0\n",
       "                                            ...                       \n",
       "fp_1019                                                            0.0\n",
       "fp_1020                                                            0.0\n",
       "fp_1021                                                            0.0\n",
       "fp_1022                                                            0.0\n",
       "fp_1023                                                            0.0\n",
       "Name: 34, Length: 1054, dtype: object"
      ]
     },
     "execution_count": 22,
     "metadata": {},
     "output_type": "execute_result"
    }
   ],
   "source": [
    "df.iloc[34]"
   ]
  },
  {
   "cell_type": "code",
   "execution_count": 23,
   "metadata": {},
   "outputs": [
    {
     "data": {
      "text/plain": [
       "SMILES                 c1csc(-c2ccc(-c3cccs3)s2)c1\n",
       "Tag                                         2769.0\n",
       "Solvent                                      ClCCl\n",
       "Absorption max (nm)                          355.0\n",
       "Emission max (nm)                            432.0\n",
       "                                  ...             \n",
       "fp_1019                                        0.0\n",
       "fp_1020                                        0.0\n",
       "fp_1021                                        0.0\n",
       "fp_1022                                        0.0\n",
       "fp_1023                                        0.0\n",
       "Name: 37, Length: 1054, dtype: object"
      ]
     },
     "execution_count": 23,
     "metadata": {},
     "output_type": "execute_result"
    }
   ],
   "source": [
    "df.iloc[37]"
   ]
  },
  {
   "cell_type": "code",
   "execution_count": null,
   "metadata": {},
   "outputs": [],
   "source": []
  }
 ],
 "metadata": {
  "kernelspec": {
   "display_name": "RDKit",
   "language": "python",
   "name": "python3"
  },
  "language_info": {
   "codemirror_mode": {
    "name": "ipython",
    "version": 3
   },
   "file_extension": ".py",
   "mimetype": "text/x-python",
   "name": "python",
   "nbconvert_exporter": "python",
   "pygments_lexer": "ipython3",
   "version": "3.10.6"
  },
  "orig_nbformat": 4
 },
 "nbformat": 4,
 "nbformat_minor": 2
}
