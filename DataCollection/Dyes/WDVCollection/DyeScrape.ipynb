{
 "cells": [
  {
   "attachments": {},
   "cell_type": "markdown",
   "id": "8cad03df-f80c-4089-8aee-3a6a8037e247",
   "metadata": {},
   "source": [
    "# code to collect knowledge about Worl;d dye variety database\n"
   ]
  },
  {
   "cell_type": "code",
   "execution_count": 43,
   "id": "b768b911-2806-49ec-8f09-41e7df2f1a93",
   "metadata": {},
   "outputs": [],
   "source": [
    "from selenium import webdriver\n",
    "from bs4 import BeautifulSoup\n",
    "import pandas as pd\n",
    "import requests \n",
    "import re\n",
    "import json \n",
    "import pickle "
   ]
  },
  {
   "cell_type": "code",
   "execution_count": 44,
   "id": "a0e17a7d-c660-431e-9cea-68840724006b",
   "metadata": {},
   "outputs": [],
   "source": [
    "# gather a list of links for a given moelcule\n",
    "\n",
    "# collect all links in the list for basic dyes \n",
    "def linklist(type,base, pages):\n",
    "    linklist = []\n",
    "    # gather data for first page\n",
    "    p1 = base\n",
    "    page = requests.get(p1)\n",
    "    soup = BeautifulSoup(page.content, 'html.parser')\n",
    "    links=soup.find_all('a', {'href': re.compile(r'{}(-)(.*)(-)(\\d+).html(\\Z)'.format(type))})\n",
    "\n",
    "    for link in links[0:5]:\n",
    "        linklist.append(link.get('href'))\n",
    "  \n",
    "\n",
    "    for i in range(2,pages):\n",
    "        p1 = base+'/page/{}'.format(i)\n",
    "        page = requests.get(p1)\n",
    "        soup = BeautifulSoup(page.content, 'html.parser')\n",
    "        links=soup.find_all('a', {'href': re.compile(r'{}(-)(.*)(-)(\\d+).html(\\Z)'.format(type))})\n",
    "\n",
    "        for link in links[0:5]:\n",
    "            linklist.append(link.get('href'))\n",
    "    return linklist"
   ]
  },
  {
   "cell_type": "code",
   "execution_count": 4,
   "id": "ec99020e-86bd-412e-82ee-e92ad78b0945",
   "metadata": {},
   "outputs": [],
   "source": [
    "def GetInfo(link):\n",
    "    page = requests.get(link)\n",
    "    soup = BeautifulSoup(page.content, 'html.parser')\n",
    "    #test for case with lightfastness\n",
    "    data = []\n",
    "    rows = soup.find_all('tr')\n",
    "    img = soup.find_all('img')\n",
    "\n",
    "    for row in rows:\n",
    "        cols = row.find_all('td')\n",
    "        cols = [ele.text.strip() for ele in cols]\n",
    "        data.append([ele for ele in cols]) \n",
    "    test = soup.find_all(class_=\"entrytext\")\n",
    "    text = test[0].getText()    \n",
    "        \n",
    "    CAS = re.search(\"CAS Registry Number:(\\d+-\\d+-\\d+)\", text)\n",
    "    Mol = re.search(\"Molecular Structure:.*\", text)\n",
    "    name=re.search(\"Name:.*\", text)\n",
    "    formula = re.search(\"Molecular Formula:.*\", text)\n",
    "    weight =re.search(\"Molecular Weight:.*\", text)\n",
    "    creation = re.search(\"Manufacturing Methods:.*\", text)\n",
    "    Props= re.search(\"Properties and Applications:.*\", text)\n",
    "    suppliers= re.search(\"List of Suppliers:.*\", text)\n",
    "\n",
    "    try:\n",
    "        CAS = CAS[0]\n",
    "    except:\n",
    "        CAS = None\n",
    "\n",
    "    try:\n",
    "        Mol = Mol[0]\n",
    "    except:\n",
    "        Mol = None\n",
    "\n",
    "    try:\n",
    "        name = name[0]\n",
    "    except:\n",
    "        name = None\n",
    "\n",
    "    try:\n",
    "        formula = formula[0]\n",
    "    except:\n",
    "        formula = None\n",
    "\n",
    "    try:\n",
    "        weight = weight[0]\n",
    "    except:\n",
    "        weight = None\n",
    "\n",
    "    try:\n",
    "        creation = creation[0]\n",
    "    except:\n",
    "        creation = None\n",
    "\n",
    "    try:\n",
    "        Props = Props[0]\n",
    "    except:\n",
    "        Props = None\n",
    "\n",
    "    try:\n",
    "        suppliers = suppliers[0]\n",
    "    except:\n",
    "        suppliers = None\n",
    "\n",
    "        \n",
    "    info = {'CAS':CAS,'Mol':Mol,'name':name,'formula':formula,'weight':weight,'methods':creation,'properties':Props,\n",
    "           'suppliers':suppliers}\n",
    "\n",
    "\n",
    "\n",
    "      #print(match[0])\n",
    "      #print(data)\n",
    "\n",
    "    stuff = {'verbal':info,'numerical':data}\n",
    "\n",
    "    return stuff\n"
   ]
  },
  {
   "cell_type": "code",
   "execution_count": 5,
   "id": "d8d025bd-ec71-4d78-a567-6d5e75d19a0e",
   "metadata": {},
   "outputs": [],
   "source": [
    "def Collect(name, link, number):\n",
    "    LinkList = linklist(name,link,number)\n",
    "    DataDump = []\n",
    "    for link in LinkList:\n",
    "\n",
    "        try:\n",
    "            DyeData = GetInfo(link) \n",
    "            DataDump.append(DyeData)\n",
    "        except:\n",
    "            continue \n",
    "        \n",
    "\n",
    "    # convert the data into a json and save \n",
    "\n",
    "    Dyes = json.dumps(DataDump)\n",
    "    with open(\"{}Dyes.json\".format(name), \"w\") as outfile:\n",
    "        outfile.write(Dyes)\n"
   ]
  },
  {
   "cell_type": "code",
   "execution_count": 6,
   "id": "f94a1df6-6c10-4d2f-9a60-edadbb4d0de6",
   "metadata": {},
   "outputs": [
    {
     "ename": "KeyboardInterrupt",
     "evalue": "",
     "output_type": "error",
     "traceback": [
      "\u001b[0;31m---------------------------------------------------------------------------\u001b[0m",
      "\u001b[0;31mKeyboardInterrupt\u001b[0m                         Traceback (most recent call last)",
      "\u001b[0;32m/tmp/ipykernel_242215/1968781633.py\u001b[0m in \u001b[0;36m<module>\u001b[0;34m\u001b[0m\n\u001b[1;32m      2\u001b[0m \u001b[0;34m\u001b[0m\u001b[0m\n\u001b[1;32m      3\u001b[0m \u001b[0;34m\u001b[0m\u001b[0m\n\u001b[0;32m----> 4\u001b[0;31m \u001b[0mCollect\u001b[0m\u001b[0;34m(\u001b[0m\u001b[0;34m'acid'\u001b[0m\u001b[0;34m,\u001b[0m\u001b[0;34m'https://www.worlddyevariety.com/category/acid-dyes'\u001b[0m\u001b[0;34m,\u001b[0m\u001b[0;36m160\u001b[0m\u001b[0;34m)\u001b[0m\u001b[0;34m\u001b[0m\u001b[0;34m\u001b[0m\u001b[0m\n\u001b[0m",
      "\u001b[0;32m/tmp/ipykernel_242215/212986260.py\u001b[0m in \u001b[0;36mCollect\u001b[0;34m(name, link, number)\u001b[0m\n\u001b[1;32m      1\u001b[0m \u001b[0;32mdef\u001b[0m \u001b[0mCollect\u001b[0m\u001b[0;34m(\u001b[0m\u001b[0mname\u001b[0m\u001b[0;34m,\u001b[0m \u001b[0mlink\u001b[0m\u001b[0;34m,\u001b[0m \u001b[0mnumber\u001b[0m\u001b[0;34m)\u001b[0m\u001b[0;34m:\u001b[0m\u001b[0;34m\u001b[0m\u001b[0;34m\u001b[0m\u001b[0m\n\u001b[0;32m----> 2\u001b[0;31m     \u001b[0mLinkList\u001b[0m \u001b[0;34m=\u001b[0m \u001b[0mlinklist\u001b[0m\u001b[0;34m(\u001b[0m\u001b[0mname\u001b[0m\u001b[0;34m,\u001b[0m\u001b[0mlink\u001b[0m\u001b[0;34m,\u001b[0m\u001b[0mnumber\u001b[0m\u001b[0;34m)\u001b[0m\u001b[0;34m\u001b[0m\u001b[0;34m\u001b[0m\u001b[0m\n\u001b[0m\u001b[1;32m      3\u001b[0m     \u001b[0mDataDump\u001b[0m \u001b[0;34m=\u001b[0m \u001b[0;34m[\u001b[0m\u001b[0;34m]\u001b[0m\u001b[0;34m\u001b[0m\u001b[0;34m\u001b[0m\u001b[0m\n\u001b[1;32m      4\u001b[0m     \u001b[0;32mfor\u001b[0m \u001b[0mlink\u001b[0m \u001b[0;32min\u001b[0m \u001b[0mLinkList\u001b[0m\u001b[0;34m:\u001b[0m\u001b[0;34m\u001b[0m\u001b[0;34m\u001b[0m\u001b[0m\n\u001b[1;32m      5\u001b[0m \u001b[0;34m\u001b[0m\u001b[0m\n",
      "\u001b[0;32m/tmp/ipykernel_242215/1662428199.py\u001b[0m in \u001b[0;36mlinklist\u001b[0;34m(type, base, pages)\u001b[0m\n\u001b[1;32m     16\u001b[0m     \u001b[0;32mfor\u001b[0m \u001b[0mi\u001b[0m \u001b[0;32min\u001b[0m \u001b[0mrange\u001b[0m\u001b[0;34m(\u001b[0m\u001b[0;36m2\u001b[0m\u001b[0;34m,\u001b[0m\u001b[0mpages\u001b[0m\u001b[0;34m)\u001b[0m\u001b[0;34m:\u001b[0m\u001b[0;34m\u001b[0m\u001b[0;34m\u001b[0m\u001b[0m\n\u001b[1;32m     17\u001b[0m         \u001b[0mp1\u001b[0m \u001b[0;34m=\u001b[0m \u001b[0mbase\u001b[0m\u001b[0;34m+\u001b[0m\u001b[0;34m'/page/{}'\u001b[0m\u001b[0;34m.\u001b[0m\u001b[0mformat\u001b[0m\u001b[0;34m(\u001b[0m\u001b[0mi\u001b[0m\u001b[0;34m)\u001b[0m\u001b[0;34m\u001b[0m\u001b[0;34m\u001b[0m\u001b[0m\n\u001b[0;32m---> 18\u001b[0;31m         \u001b[0mpage\u001b[0m \u001b[0;34m=\u001b[0m \u001b[0mrequests\u001b[0m\u001b[0;34m.\u001b[0m\u001b[0mget\u001b[0m\u001b[0;34m(\u001b[0m\u001b[0mp1\u001b[0m\u001b[0;34m)\u001b[0m\u001b[0;34m\u001b[0m\u001b[0;34m\u001b[0m\u001b[0m\n\u001b[0m\u001b[1;32m     19\u001b[0m         \u001b[0msoup\u001b[0m \u001b[0;34m=\u001b[0m \u001b[0mBeautifulSoup\u001b[0m\u001b[0;34m(\u001b[0m\u001b[0mpage\u001b[0m\u001b[0;34m.\u001b[0m\u001b[0mcontent\u001b[0m\u001b[0;34m,\u001b[0m \u001b[0;34m'html.parser'\u001b[0m\u001b[0;34m)\u001b[0m\u001b[0;34m\u001b[0m\u001b[0;34m\u001b[0m\u001b[0m\n\u001b[1;32m     20\u001b[0m         \u001b[0mlinks\u001b[0m\u001b[0;34m=\u001b[0m\u001b[0msoup\u001b[0m\u001b[0;34m.\u001b[0m\u001b[0mfind_all\u001b[0m\u001b[0;34m(\u001b[0m\u001b[0;34m'a'\u001b[0m\u001b[0;34m,\u001b[0m \u001b[0;34m{\u001b[0m\u001b[0;34m'href'\u001b[0m\u001b[0;34m:\u001b[0m \u001b[0mre\u001b[0m\u001b[0;34m.\u001b[0m\u001b[0mcompile\u001b[0m\u001b[0;34m(\u001b[0m\u001b[0;34mr'{}(-)(.*)(-)(\\d+).html(\\Z)'\u001b[0m\u001b[0;34m.\u001b[0m\u001b[0mformat\u001b[0m\u001b[0;34m(\u001b[0m\u001b[0mtype\u001b[0m\u001b[0;34m)\u001b[0m\u001b[0;34m)\u001b[0m\u001b[0;34m}\u001b[0m\u001b[0;34m)\u001b[0m\u001b[0;34m\u001b[0m\u001b[0;34m\u001b[0m\u001b[0m\n",
      "\u001b[0;32m~/anaconda3/envs/Webscrape/lib/python3.7/site-packages/requests/api.py\u001b[0m in \u001b[0;36mget\u001b[0;34m(url, params, **kwargs)\u001b[0m\n\u001b[1;32m     71\u001b[0m     \"\"\"\n\u001b[1;32m     72\u001b[0m \u001b[0;34m\u001b[0m\u001b[0m\n\u001b[0;32m---> 73\u001b[0;31m     \u001b[0;32mreturn\u001b[0m \u001b[0mrequest\u001b[0m\u001b[0;34m(\u001b[0m\u001b[0;34m\"get\"\u001b[0m\u001b[0;34m,\u001b[0m \u001b[0murl\u001b[0m\u001b[0;34m,\u001b[0m \u001b[0mparams\u001b[0m\u001b[0;34m=\u001b[0m\u001b[0mparams\u001b[0m\u001b[0;34m,\u001b[0m \u001b[0;34m**\u001b[0m\u001b[0mkwargs\u001b[0m\u001b[0;34m)\u001b[0m\u001b[0;34m\u001b[0m\u001b[0;34m\u001b[0m\u001b[0m\n\u001b[0m\u001b[1;32m     74\u001b[0m \u001b[0;34m\u001b[0m\u001b[0m\n\u001b[1;32m     75\u001b[0m \u001b[0;34m\u001b[0m\u001b[0m\n",
      "\u001b[0;32m~/anaconda3/envs/Webscrape/lib/python3.7/site-packages/requests/api.py\u001b[0m in \u001b[0;36mrequest\u001b[0;34m(method, url, **kwargs)\u001b[0m\n\u001b[1;32m     57\u001b[0m     \u001b[0;31m# cases, and look like a memory leak in others.\u001b[0m\u001b[0;34m\u001b[0m\u001b[0;34m\u001b[0m\u001b[0;34m\u001b[0m\u001b[0m\n\u001b[1;32m     58\u001b[0m     \u001b[0;32mwith\u001b[0m \u001b[0msessions\u001b[0m\u001b[0;34m.\u001b[0m\u001b[0mSession\u001b[0m\u001b[0;34m(\u001b[0m\u001b[0;34m)\u001b[0m \u001b[0;32mas\u001b[0m \u001b[0msession\u001b[0m\u001b[0;34m:\u001b[0m\u001b[0;34m\u001b[0m\u001b[0;34m\u001b[0m\u001b[0m\n\u001b[0;32m---> 59\u001b[0;31m         \u001b[0;32mreturn\u001b[0m \u001b[0msession\u001b[0m\u001b[0;34m.\u001b[0m\u001b[0mrequest\u001b[0m\u001b[0;34m(\u001b[0m\u001b[0mmethod\u001b[0m\u001b[0;34m=\u001b[0m\u001b[0mmethod\u001b[0m\u001b[0;34m,\u001b[0m \u001b[0murl\u001b[0m\u001b[0;34m=\u001b[0m\u001b[0murl\u001b[0m\u001b[0;34m,\u001b[0m \u001b[0;34m**\u001b[0m\u001b[0mkwargs\u001b[0m\u001b[0;34m)\u001b[0m\u001b[0;34m\u001b[0m\u001b[0;34m\u001b[0m\u001b[0m\n\u001b[0m\u001b[1;32m     60\u001b[0m \u001b[0;34m\u001b[0m\u001b[0m\n\u001b[1;32m     61\u001b[0m \u001b[0;34m\u001b[0m\u001b[0m\n",
      "\u001b[0;32m~/anaconda3/envs/Webscrape/lib/python3.7/site-packages/requests/sessions.py\u001b[0m in \u001b[0;36mrequest\u001b[0;34m(self, method, url, params, data, headers, cookies, files, auth, timeout, allow_redirects, proxies, hooks, stream, verify, cert, json)\u001b[0m\n\u001b[1;32m    585\u001b[0m         }\n\u001b[1;32m    586\u001b[0m         \u001b[0msend_kwargs\u001b[0m\u001b[0;34m.\u001b[0m\u001b[0mupdate\u001b[0m\u001b[0;34m(\u001b[0m\u001b[0msettings\u001b[0m\u001b[0;34m)\u001b[0m\u001b[0;34m\u001b[0m\u001b[0;34m\u001b[0m\u001b[0m\n\u001b[0;32m--> 587\u001b[0;31m         \u001b[0mresp\u001b[0m \u001b[0;34m=\u001b[0m \u001b[0mself\u001b[0m\u001b[0;34m.\u001b[0m\u001b[0msend\u001b[0m\u001b[0;34m(\u001b[0m\u001b[0mprep\u001b[0m\u001b[0;34m,\u001b[0m \u001b[0;34m**\u001b[0m\u001b[0msend_kwargs\u001b[0m\u001b[0;34m)\u001b[0m\u001b[0;34m\u001b[0m\u001b[0;34m\u001b[0m\u001b[0m\n\u001b[0m\u001b[1;32m    588\u001b[0m \u001b[0;34m\u001b[0m\u001b[0m\n\u001b[1;32m    589\u001b[0m         \u001b[0;32mreturn\u001b[0m \u001b[0mresp\u001b[0m\u001b[0;34m\u001b[0m\u001b[0;34m\u001b[0m\u001b[0m\n",
      "\u001b[0;32m~/anaconda3/envs/Webscrape/lib/python3.7/site-packages/requests/sessions.py\u001b[0m in \u001b[0;36msend\u001b[0;34m(self, request, **kwargs)\u001b[0m\n\u001b[1;32m    699\u001b[0m \u001b[0;34m\u001b[0m\u001b[0m\n\u001b[1;32m    700\u001b[0m         \u001b[0;31m# Send the request\u001b[0m\u001b[0;34m\u001b[0m\u001b[0;34m\u001b[0m\u001b[0;34m\u001b[0m\u001b[0m\n\u001b[0;32m--> 701\u001b[0;31m         \u001b[0mr\u001b[0m \u001b[0;34m=\u001b[0m \u001b[0madapter\u001b[0m\u001b[0;34m.\u001b[0m\u001b[0msend\u001b[0m\u001b[0;34m(\u001b[0m\u001b[0mrequest\u001b[0m\u001b[0;34m,\u001b[0m \u001b[0;34m**\u001b[0m\u001b[0mkwargs\u001b[0m\u001b[0;34m)\u001b[0m\u001b[0;34m\u001b[0m\u001b[0;34m\u001b[0m\u001b[0m\n\u001b[0m\u001b[1;32m    702\u001b[0m \u001b[0;34m\u001b[0m\u001b[0m\n\u001b[1;32m    703\u001b[0m         \u001b[0;31m# Total elapsed time of the request (approximately)\u001b[0m\u001b[0;34m\u001b[0m\u001b[0;34m\u001b[0m\u001b[0;34m\u001b[0m\u001b[0m\n",
      "\u001b[0;32m~/anaconda3/envs/Webscrape/lib/python3.7/site-packages/requests/adapters.py\u001b[0m in \u001b[0;36msend\u001b[0;34m(self, request, stream, timeout, verify, cert, proxies)\u001b[0m\n\u001b[1;32m    497\u001b[0m                     \u001b[0mdecode_content\u001b[0m\u001b[0;34m=\u001b[0m\u001b[0;32mFalse\u001b[0m\u001b[0;34m,\u001b[0m\u001b[0;34m\u001b[0m\u001b[0;34m\u001b[0m\u001b[0m\n\u001b[1;32m    498\u001b[0m                     \u001b[0mretries\u001b[0m\u001b[0;34m=\u001b[0m\u001b[0mself\u001b[0m\u001b[0;34m.\u001b[0m\u001b[0mmax_retries\u001b[0m\u001b[0;34m,\u001b[0m\u001b[0;34m\u001b[0m\u001b[0;34m\u001b[0m\u001b[0m\n\u001b[0;32m--> 499\u001b[0;31m                     \u001b[0mtimeout\u001b[0m\u001b[0;34m=\u001b[0m\u001b[0mtimeout\u001b[0m\u001b[0;34m,\u001b[0m\u001b[0;34m\u001b[0m\u001b[0;34m\u001b[0m\u001b[0m\n\u001b[0m\u001b[1;32m    500\u001b[0m                 )\n\u001b[1;32m    501\u001b[0m \u001b[0;34m\u001b[0m\u001b[0m\n",
      "\u001b[0;32m~/anaconda3/envs/Webscrape/lib/python3.7/site-packages/urllib3/connectionpool.py\u001b[0m in \u001b[0;36murlopen\u001b[0;34m(self, method, url, body, headers, retries, redirect, assert_same_host, timeout, pool_timeout, release_conn, chunked, body_pos, **response_kw)\u001b[0m\n\u001b[1;32m    708\u001b[0m                 \u001b[0mbody\u001b[0m\u001b[0;34m=\u001b[0m\u001b[0mbody\u001b[0m\u001b[0;34m,\u001b[0m\u001b[0;34m\u001b[0m\u001b[0;34m\u001b[0m\u001b[0m\n\u001b[1;32m    709\u001b[0m                 \u001b[0mheaders\u001b[0m\u001b[0;34m=\u001b[0m\u001b[0mheaders\u001b[0m\u001b[0;34m,\u001b[0m\u001b[0;34m\u001b[0m\u001b[0;34m\u001b[0m\u001b[0m\n\u001b[0;32m--> 710\u001b[0;31m                 \u001b[0mchunked\u001b[0m\u001b[0;34m=\u001b[0m\u001b[0mchunked\u001b[0m\u001b[0;34m,\u001b[0m\u001b[0;34m\u001b[0m\u001b[0;34m\u001b[0m\u001b[0m\n\u001b[0m\u001b[1;32m    711\u001b[0m             )\n\u001b[1;32m    712\u001b[0m \u001b[0;34m\u001b[0m\u001b[0m\n",
      "\u001b[0;32m~/anaconda3/envs/Webscrape/lib/python3.7/site-packages/urllib3/connectionpool.py\u001b[0m in \u001b[0;36m_make_request\u001b[0;34m(self, conn, method, url, timeout, chunked, **httplib_request_kw)\u001b[0m\n\u001b[1;32m    447\u001b[0m                     \u001b[0;31m# Python 3 (including for exceptions like SystemExit).\u001b[0m\u001b[0;34m\u001b[0m\u001b[0;34m\u001b[0m\u001b[0;34m\u001b[0m\u001b[0m\n\u001b[1;32m    448\u001b[0m                     \u001b[0;31m# Otherwise it looks like a bug in the code.\u001b[0m\u001b[0;34m\u001b[0m\u001b[0;34m\u001b[0m\u001b[0;34m\u001b[0m\u001b[0m\n\u001b[0;32m--> 449\u001b[0;31m                     \u001b[0msix\u001b[0m\u001b[0;34m.\u001b[0m\u001b[0mraise_from\u001b[0m\u001b[0;34m(\u001b[0m\u001b[0me\u001b[0m\u001b[0;34m,\u001b[0m \u001b[0;32mNone\u001b[0m\u001b[0;34m)\u001b[0m\u001b[0;34m\u001b[0m\u001b[0;34m\u001b[0m\u001b[0m\n\u001b[0m\u001b[1;32m    450\u001b[0m         \u001b[0;32mexcept\u001b[0m \u001b[0;34m(\u001b[0m\u001b[0mSocketTimeout\u001b[0m\u001b[0;34m,\u001b[0m \u001b[0mBaseSSLError\u001b[0m\u001b[0;34m,\u001b[0m \u001b[0mSocketError\u001b[0m\u001b[0;34m)\u001b[0m \u001b[0;32mas\u001b[0m \u001b[0me\u001b[0m\u001b[0;34m:\u001b[0m\u001b[0;34m\u001b[0m\u001b[0;34m\u001b[0m\u001b[0m\n\u001b[1;32m    451\u001b[0m             \u001b[0mself\u001b[0m\u001b[0;34m.\u001b[0m\u001b[0m_raise_timeout\u001b[0m\u001b[0;34m(\u001b[0m\u001b[0merr\u001b[0m\u001b[0;34m=\u001b[0m\u001b[0me\u001b[0m\u001b[0;34m,\u001b[0m \u001b[0murl\u001b[0m\u001b[0;34m=\u001b[0m\u001b[0murl\u001b[0m\u001b[0;34m,\u001b[0m \u001b[0mtimeout_value\u001b[0m\u001b[0;34m=\u001b[0m\u001b[0mread_timeout\u001b[0m\u001b[0;34m)\u001b[0m\u001b[0;34m\u001b[0m\u001b[0;34m\u001b[0m\u001b[0m\n",
      "\u001b[0;32m~/anaconda3/envs/Webscrape/lib/python3.7/site-packages/urllib3/packages/six.py\u001b[0m in \u001b[0;36mraise_from\u001b[0;34m(value, from_value)\u001b[0m\n",
      "\u001b[0;32m~/anaconda3/envs/Webscrape/lib/python3.7/site-packages/urllib3/connectionpool.py\u001b[0m in \u001b[0;36m_make_request\u001b[0;34m(self, conn, method, url, timeout, chunked, **httplib_request_kw)\u001b[0m\n\u001b[1;32m    442\u001b[0m                 \u001b[0;31m# Python 3\u001b[0m\u001b[0;34m\u001b[0m\u001b[0;34m\u001b[0m\u001b[0;34m\u001b[0m\u001b[0m\n\u001b[1;32m    443\u001b[0m                 \u001b[0;32mtry\u001b[0m\u001b[0;34m:\u001b[0m\u001b[0;34m\u001b[0m\u001b[0;34m\u001b[0m\u001b[0m\n\u001b[0;32m--> 444\u001b[0;31m                     \u001b[0mhttplib_response\u001b[0m \u001b[0;34m=\u001b[0m \u001b[0mconn\u001b[0m\u001b[0;34m.\u001b[0m\u001b[0mgetresponse\u001b[0m\u001b[0;34m(\u001b[0m\u001b[0;34m)\u001b[0m\u001b[0;34m\u001b[0m\u001b[0;34m\u001b[0m\u001b[0m\n\u001b[0m\u001b[1;32m    445\u001b[0m                 \u001b[0;32mexcept\u001b[0m \u001b[0mBaseException\u001b[0m \u001b[0;32mas\u001b[0m \u001b[0me\u001b[0m\u001b[0;34m:\u001b[0m\u001b[0;34m\u001b[0m\u001b[0;34m\u001b[0m\u001b[0m\n\u001b[1;32m    446\u001b[0m                     \u001b[0;31m# Remove the TypeError from the exception chain in\u001b[0m\u001b[0;34m\u001b[0m\u001b[0;34m\u001b[0m\u001b[0;34m\u001b[0m\u001b[0m\n",
      "\u001b[0;32m~/anaconda3/envs/Webscrape/lib/python3.7/http/client.py\u001b[0m in \u001b[0;36mgetresponse\u001b[0;34m(self)\u001b[0m\n\u001b[1;32m   1371\u001b[0m         \u001b[0;32mtry\u001b[0m\u001b[0;34m:\u001b[0m\u001b[0;34m\u001b[0m\u001b[0;34m\u001b[0m\u001b[0m\n\u001b[1;32m   1372\u001b[0m             \u001b[0;32mtry\u001b[0m\u001b[0;34m:\u001b[0m\u001b[0;34m\u001b[0m\u001b[0;34m\u001b[0m\u001b[0m\n\u001b[0;32m-> 1373\u001b[0;31m                 \u001b[0mresponse\u001b[0m\u001b[0;34m.\u001b[0m\u001b[0mbegin\u001b[0m\u001b[0;34m(\u001b[0m\u001b[0;34m)\u001b[0m\u001b[0;34m\u001b[0m\u001b[0;34m\u001b[0m\u001b[0m\n\u001b[0m\u001b[1;32m   1374\u001b[0m             \u001b[0;32mexcept\u001b[0m \u001b[0mConnectionError\u001b[0m\u001b[0;34m:\u001b[0m\u001b[0;34m\u001b[0m\u001b[0;34m\u001b[0m\u001b[0m\n\u001b[1;32m   1375\u001b[0m                 \u001b[0mself\u001b[0m\u001b[0;34m.\u001b[0m\u001b[0mclose\u001b[0m\u001b[0;34m(\u001b[0m\u001b[0;34m)\u001b[0m\u001b[0;34m\u001b[0m\u001b[0;34m\u001b[0m\u001b[0m\n",
      "\u001b[0;32m~/anaconda3/envs/Webscrape/lib/python3.7/http/client.py\u001b[0m in \u001b[0;36mbegin\u001b[0;34m(self)\u001b[0m\n\u001b[1;32m    317\u001b[0m         \u001b[0;31m# read until we get a non-100 response\u001b[0m\u001b[0;34m\u001b[0m\u001b[0;34m\u001b[0m\u001b[0;34m\u001b[0m\u001b[0m\n\u001b[1;32m    318\u001b[0m         \u001b[0;32mwhile\u001b[0m \u001b[0;32mTrue\u001b[0m\u001b[0;34m:\u001b[0m\u001b[0;34m\u001b[0m\u001b[0;34m\u001b[0m\u001b[0m\n\u001b[0;32m--> 319\u001b[0;31m             \u001b[0mversion\u001b[0m\u001b[0;34m,\u001b[0m \u001b[0mstatus\u001b[0m\u001b[0;34m,\u001b[0m \u001b[0mreason\u001b[0m \u001b[0;34m=\u001b[0m \u001b[0mself\u001b[0m\u001b[0;34m.\u001b[0m\u001b[0m_read_status\u001b[0m\u001b[0;34m(\u001b[0m\u001b[0;34m)\u001b[0m\u001b[0;34m\u001b[0m\u001b[0;34m\u001b[0m\u001b[0m\n\u001b[0m\u001b[1;32m    320\u001b[0m             \u001b[0;32mif\u001b[0m \u001b[0mstatus\u001b[0m \u001b[0;34m!=\u001b[0m \u001b[0mCONTINUE\u001b[0m\u001b[0;34m:\u001b[0m\u001b[0;34m\u001b[0m\u001b[0;34m\u001b[0m\u001b[0m\n\u001b[1;32m    321\u001b[0m                 \u001b[0;32mbreak\u001b[0m\u001b[0;34m\u001b[0m\u001b[0;34m\u001b[0m\u001b[0m\n",
      "\u001b[0;32m~/anaconda3/envs/Webscrape/lib/python3.7/http/client.py\u001b[0m in \u001b[0;36m_read_status\u001b[0;34m(self)\u001b[0m\n\u001b[1;32m    278\u001b[0m \u001b[0;34m\u001b[0m\u001b[0m\n\u001b[1;32m    279\u001b[0m     \u001b[0;32mdef\u001b[0m \u001b[0m_read_status\u001b[0m\u001b[0;34m(\u001b[0m\u001b[0mself\u001b[0m\u001b[0;34m)\u001b[0m\u001b[0;34m:\u001b[0m\u001b[0;34m\u001b[0m\u001b[0;34m\u001b[0m\u001b[0m\n\u001b[0;32m--> 280\u001b[0;31m         \u001b[0mline\u001b[0m \u001b[0;34m=\u001b[0m \u001b[0mstr\u001b[0m\u001b[0;34m(\u001b[0m\u001b[0mself\u001b[0m\u001b[0;34m.\u001b[0m\u001b[0mfp\u001b[0m\u001b[0;34m.\u001b[0m\u001b[0mreadline\u001b[0m\u001b[0;34m(\u001b[0m\u001b[0m_MAXLINE\u001b[0m \u001b[0;34m+\u001b[0m \u001b[0;36m1\u001b[0m\u001b[0;34m)\u001b[0m\u001b[0;34m,\u001b[0m \u001b[0;34m\"iso-8859-1\"\u001b[0m\u001b[0;34m)\u001b[0m\u001b[0;34m\u001b[0m\u001b[0;34m\u001b[0m\u001b[0m\n\u001b[0m\u001b[1;32m    281\u001b[0m         \u001b[0;32mif\u001b[0m \u001b[0mlen\u001b[0m\u001b[0;34m(\u001b[0m\u001b[0mline\u001b[0m\u001b[0;34m)\u001b[0m \u001b[0;34m>\u001b[0m \u001b[0m_MAXLINE\u001b[0m\u001b[0;34m:\u001b[0m\u001b[0;34m\u001b[0m\u001b[0;34m\u001b[0m\u001b[0m\n\u001b[1;32m    282\u001b[0m             \u001b[0;32mraise\u001b[0m \u001b[0mLineTooLong\u001b[0m\u001b[0;34m(\u001b[0m\u001b[0;34m\"status line\"\u001b[0m\u001b[0;34m)\u001b[0m\u001b[0;34m\u001b[0m\u001b[0;34m\u001b[0m\u001b[0m\n",
      "\u001b[0;32m~/anaconda3/envs/Webscrape/lib/python3.7/socket.py\u001b[0m in \u001b[0;36mreadinto\u001b[0;34m(self, b)\u001b[0m\n\u001b[1;32m    587\u001b[0m         \u001b[0;32mwhile\u001b[0m \u001b[0;32mTrue\u001b[0m\u001b[0;34m:\u001b[0m\u001b[0;34m\u001b[0m\u001b[0;34m\u001b[0m\u001b[0m\n\u001b[1;32m    588\u001b[0m             \u001b[0;32mtry\u001b[0m\u001b[0;34m:\u001b[0m\u001b[0;34m\u001b[0m\u001b[0;34m\u001b[0m\u001b[0m\n\u001b[0;32m--> 589\u001b[0;31m                 \u001b[0;32mreturn\u001b[0m \u001b[0mself\u001b[0m\u001b[0;34m.\u001b[0m\u001b[0m_sock\u001b[0m\u001b[0;34m.\u001b[0m\u001b[0mrecv_into\u001b[0m\u001b[0;34m(\u001b[0m\u001b[0mb\u001b[0m\u001b[0;34m)\u001b[0m\u001b[0;34m\u001b[0m\u001b[0;34m\u001b[0m\u001b[0m\n\u001b[0m\u001b[1;32m    590\u001b[0m             \u001b[0;32mexcept\u001b[0m \u001b[0mtimeout\u001b[0m\u001b[0;34m:\u001b[0m\u001b[0;34m\u001b[0m\u001b[0;34m\u001b[0m\u001b[0m\n\u001b[1;32m    591\u001b[0m                 \u001b[0mself\u001b[0m\u001b[0;34m.\u001b[0m\u001b[0m_timeout_occurred\u001b[0m \u001b[0;34m=\u001b[0m \u001b[0;32mTrue\u001b[0m\u001b[0;34m\u001b[0m\u001b[0;34m\u001b[0m\u001b[0m\n",
      "\u001b[0;32m~/anaconda3/envs/Webscrape/lib/python3.7/ssl.py\u001b[0m in \u001b[0;36mrecv_into\u001b[0;34m(self, buffer, nbytes, flags)\u001b[0m\n\u001b[1;32m   1069\u001b[0m                   \u001b[0;34m\"non-zero flags not allowed in calls to recv_into() on %s\"\u001b[0m \u001b[0;34m%\u001b[0m\u001b[0;34m\u001b[0m\u001b[0;34m\u001b[0m\u001b[0m\n\u001b[1;32m   1070\u001b[0m                   self.__class__)\n\u001b[0;32m-> 1071\u001b[0;31m             \u001b[0;32mreturn\u001b[0m \u001b[0mself\u001b[0m\u001b[0;34m.\u001b[0m\u001b[0mread\u001b[0m\u001b[0;34m(\u001b[0m\u001b[0mnbytes\u001b[0m\u001b[0;34m,\u001b[0m \u001b[0mbuffer\u001b[0m\u001b[0;34m)\u001b[0m\u001b[0;34m\u001b[0m\u001b[0;34m\u001b[0m\u001b[0m\n\u001b[0m\u001b[1;32m   1072\u001b[0m         \u001b[0;32melse\u001b[0m\u001b[0;34m:\u001b[0m\u001b[0;34m\u001b[0m\u001b[0;34m\u001b[0m\u001b[0m\n\u001b[1;32m   1073\u001b[0m             \u001b[0;32mreturn\u001b[0m \u001b[0msuper\u001b[0m\u001b[0;34m(\u001b[0m\u001b[0;34m)\u001b[0m\u001b[0;34m.\u001b[0m\u001b[0mrecv_into\u001b[0m\u001b[0;34m(\u001b[0m\u001b[0mbuffer\u001b[0m\u001b[0;34m,\u001b[0m \u001b[0mnbytes\u001b[0m\u001b[0;34m,\u001b[0m \u001b[0mflags\u001b[0m\u001b[0;34m)\u001b[0m\u001b[0;34m\u001b[0m\u001b[0;34m\u001b[0m\u001b[0m\n",
      "\u001b[0;32m~/anaconda3/envs/Webscrape/lib/python3.7/ssl.py\u001b[0m in \u001b[0;36mread\u001b[0;34m(self, len, buffer)\u001b[0m\n\u001b[1;32m    927\u001b[0m         \u001b[0;32mtry\u001b[0m\u001b[0;34m:\u001b[0m\u001b[0;34m\u001b[0m\u001b[0;34m\u001b[0m\u001b[0m\n\u001b[1;32m    928\u001b[0m             \u001b[0;32mif\u001b[0m \u001b[0mbuffer\u001b[0m \u001b[0;32mis\u001b[0m \u001b[0;32mnot\u001b[0m \u001b[0;32mNone\u001b[0m\u001b[0;34m:\u001b[0m\u001b[0;34m\u001b[0m\u001b[0;34m\u001b[0m\u001b[0m\n\u001b[0;32m--> 929\u001b[0;31m                 \u001b[0;32mreturn\u001b[0m \u001b[0mself\u001b[0m\u001b[0;34m.\u001b[0m\u001b[0m_sslobj\u001b[0m\u001b[0;34m.\u001b[0m\u001b[0mread\u001b[0m\u001b[0;34m(\u001b[0m\u001b[0mlen\u001b[0m\u001b[0;34m,\u001b[0m \u001b[0mbuffer\u001b[0m\u001b[0;34m)\u001b[0m\u001b[0;34m\u001b[0m\u001b[0;34m\u001b[0m\u001b[0m\n\u001b[0m\u001b[1;32m    930\u001b[0m             \u001b[0;32melse\u001b[0m\u001b[0;34m:\u001b[0m\u001b[0;34m\u001b[0m\u001b[0;34m\u001b[0m\u001b[0m\n\u001b[1;32m    931\u001b[0m                 \u001b[0;32mreturn\u001b[0m \u001b[0mself\u001b[0m\u001b[0;34m.\u001b[0m\u001b[0m_sslobj\u001b[0m\u001b[0;34m.\u001b[0m\u001b[0mread\u001b[0m\u001b[0;34m(\u001b[0m\u001b[0mlen\u001b[0m\u001b[0;34m)\u001b[0m\u001b[0;34m\u001b[0m\u001b[0;34m\u001b[0m\u001b[0m\n",
      "\u001b[0;31mKeyboardInterrupt\u001b[0m: "
     ]
    }
   ],
   "source": [
    "# acid dyes\n",
    "\n",
    "\n",
    "Collect('acid','https://www.worlddyevariety.com/category/acid-dyes',160)"
   ]
  },
  {
   "cell_type": "code",
   "execution_count": 7,
   "id": "20bdc29c-138f-4329-adf9-e82c3877fcad",
   "metadata": {},
   "outputs": [],
   "source": [
    "#160\n",
    "LinkList = linklist('acid','https://www.worlddyevariety.com/category/acid-dyes',10)\n",
    "DataDump = []\n",
    "for link in LinkList:\n",
    "    try:\n",
    "        DyeData = GetInfo(link) \n",
    "        DataDump.append(DyeData)\n",
    "    except:\n",
    "        continue \n",
    "        \n",
    "\n",
    "        \n",
    "        \n",
    "Dyes = json.dumps(DataDump)\n",
    "with open(\"{}Dyes_img.json\".format('acid'), \"w\") as outfile:\n",
    "    outfile.write(Dyes)        \n",
    "#Dyes = pickle.dump(DataDump,outfile)\n",
    "#with open(\"{}Dyes.pkl\".format('acid'), \"w\") as outfile:\n",
    "#    pickle.dump(DataDump,outfile)\n"
   ]
  },
  {
   "cell_type": "code",
   "execution_count": 87,
   "id": "f4fd4d34-271f-40d4-ba9b-ddef58986098",
   "metadata": {},
   "outputs": [
    {
     "data": {
      "text/plain": [
       "'CAS Registry Number:18472-87-2'"
      ]
     },
     "execution_count": 87,
     "metadata": {},
     "output_type": "execute_result"
    }
   ],
   "source": [
    "DataDump[0]['verbal']['Cas'][0]"
   ]
  },
  {
   "cell_type": "code",
   "execution_count": 129,
   "id": "0a277800-8e6a-4979-88b1-0aa839546b39",
   "metadata": {},
   "outputs": [
    {
     "data": {
      "text/plain": [
       "{'verbal': {'CAS': 'CAS Registry Number:5141-20-8',\n",
       "  'Mol': 'Molecular Structure: triarylmethane class',\n",
       "  'name': 'Name:C.I.Food green 2,C.I.42095',\n",
       "  'formula': 'Molecular Formula:C37H34N2Na2O9S3',\n",
       "  'weight': 'Molecular Weight:  792.85',\n",
       "  'methods': None,\n",
       "  'properties': 'Properties and Applications:  green. Soluble in water for blue light green, hardly soluble in ethanol (green). The strong sulfuric acid in orange, dilute yellowish later. The dye solution to join hydrogen oxidation, nearly colorless, with dark purple precipitation. And C.I. Acid Green 5 the same chemical structure.',\n",
       "  'suppliers': 'List of Suppliers:'},\n",
       " 'numerical': []}"
      ]
     },
     "execution_count": 129,
     "metadata": {},
     "output_type": "execute_result"
    }
   ],
   "source": [
    "GetInfo('https://www.worlddyevariety.com/food-dyes/food-green-2.html')"
   ]
  },
  {
   "attachments": {},
   "cell_type": "markdown",
   "id": "10e8ae6a-de3b-4ba5-9fdd-7f88946d0f15",
   "metadata": {},
   "source": [
    "# trying to do these with multi processing"
   ]
  },
  {
   "cell_type": "code",
   "execution_count": 132,
   "id": "af27a4a8-e214-4748-91d7-f408b2c7eecb",
   "metadata": {},
   "outputs": [],
   "source": [
    "Collect('food','http://www.worlddyevariety.com/category/food-dyes',15)"
   ]
  },
  {
   "cell_type": "code",
   "execution_count": 105,
   "id": "855f6d50-e36c-4e48-889b-8de88b452536",
   "metadata": {},
   "outputs": [],
   "source": [
    "from multiprocessing import Pool"
   ]
  },
  {
   "cell_type": "code",
   "execution_count": null,
   "id": "60978175-fa03-41af-ac50-9943e51c5acf",
   "metadata": {},
   "outputs": [],
   "source": [
    "def f(x):\n",
    "    return x*x\n",
    "\n",
    "if __name__ == '__main__':\n",
    "    with Pool(5) as p:\n",
    "        print(p.map(f, [1, 2, 3]))"
   ]
  },
  {
   "cell_type": "code",
   "execution_count": 117,
   "id": "97bc1080-7911-4e3c-9552-d53dc79adfa8",
   "metadata": {},
   "outputs": [],
   "source": [
    "#process parameters \n",
    "\n",
    "ll = [('acid','https://www.worlddyevariety.com/category/acid-dyes',160),\n",
    "    ('azoic','http://www.worlddyevariety.com/category/azoic-dyes',22),\n",
    "     ('basic','http://www.worlddyevariety.com/category/basic-dyes',37),\n",
    "     ('direct','http://www.worlddyevariety.com/category/direct-dyes',154),\n",
    "     ('disperse','http://www.worlddyevariety.com/category/disperse-dyes',110),\n",
    "     ('food','http://www.worlddyevariety.com/category/food-dyes',15),\n",
    "     ('mordant','http://www.worlddyevariety.com/category/mordant-dyes',51),\n",
    "     ('reactive','http://www.worlddyevariety.com/category/reactive-dyes',67),\n",
    "     ('solvent','http://www.worlddyevariety.com/category/solvent-dyes',90),\n",
    "     ('sulfur','http://www.worlddyevariety.com/category/sulphur-dyes',45),\n",
    "     ('vat','http://www.worlddyevariety.com/category/vat-dyes',53)]"
   ]
  },
  {
   "cell_type": "code",
   "execution_count": null,
   "id": "f7ed7b41-b053-4598-9e57-13c7b3d88030",
   "metadata": {},
   "outputs": [],
   "source": [
    "starmap(Collect,ll)"
   ]
  },
  {
   "cell_type": "code",
   "execution_count": 133,
   "id": "4cf8e906-5b06-4867-9a57-be384838e4d9",
   "metadata": {},
   "outputs": [],
   "source": [
    "with Pool(11) as p:\n",
    "    p.starmap(Collect,ll)"
   ]
  },
  {
   "cell_type": "code",
   "execution_count": 134,
   "id": "294ab2c5-ceeb-4d8a-b2a6-a28aedac8de7",
   "metadata": {},
   "outputs": [
    {
     "data": {
      "text/plain": [
       "1"
      ]
     },
     "execution_count": 134,
     "metadata": {},
     "output_type": "execute_result"
    }
   ],
   "source": [
    "1"
   ]
  },
  {
   "cell_type": "code",
   "execution_count": 9,
   "id": "4cd1718e-f800-4244-9aa8-4343a9c7a787",
   "metadata": {},
   "outputs": [],
   "source": [
    "page  = requests.get('https://www.worlddyevariety.com/acid-dyes/acid-yellow-4.html')"
   ]
  },
  {
   "cell_type": "code",
   "execution_count": 10,
   "id": "cd394191",
   "metadata": {},
   "outputs": [],
   "source": [
    "soup = BeautifulSoup(page.content, 'html.parser')"
   ]
  },
  {
   "cell_type": "code",
   "execution_count": 12,
   "id": "14918c51",
   "metadata": {},
   "outputs": [
    {
     "data": {
      "text/plain": [
       "[<img alt=\"Subscribe to RSS feed\" src=\"https://www.worlddyevariety.com/wp-content/themes/worlddyevariety/images/rss-feed-icon.jpg\"/>,\n",
       " <img alt=\"必应染料-您身边的染料专家\" height=\"100\" longdesc=\"http://www.biyingdye.com/\" src=\"https://ww3.sinaimg.cn/large/005CMeJsgw1enzugvyl3og30qe02smxi.gif\" width=\"950\"/>,\n",
       " <img alt=\"380.35, C.I.18695, C.I.Acid Yellow 4, C16H13N4NaO4S, CAS 6359-74-6, Tartrazine J, Yellow RN\" class=\"size-full wp-image-4902\" height=\"172\" src=\"https://www.worlddyevariety.com/wp-content/uploads/2012/05/Acid-Yellow-4.gif\" title=\"380.35, C.I.18695, C.I.Acid Yellow 4, C16H13N4NaO4S, CAS 6359-74-6, Tartrazine J, Yellow RN\" width=\"400\"/>]"
      ]
     },
     "execution_count": 12,
     "metadata": {},
     "output_type": "execute_result"
    }
   ],
   "source": [
    "soup.find_all('img',{href:'class'})"
   ]
  },
  {
   "cell_type": "code",
   "execution_count": 15,
   "id": "ada28a7a",
   "metadata": {},
   "outputs": [],
   "source": [
    "mydivs = soup.find_all(\"img\", {\"class\": \"size-full wp-image-4902\"})"
   ]
  },
  {
   "cell_type": "code",
   "execution_count": 16,
   "id": "9773f614",
   "metadata": {},
   "outputs": [
    {
     "data": {
      "text/plain": [
       "[<img alt=\"380.35, C.I.18695, C.I.Acid Yellow 4, C16H13N4NaO4S, CAS 6359-74-6, Tartrazine J, Yellow RN\" class=\"size-full wp-image-4902\" height=\"172\" src=\"https://www.worlddyevariety.com/wp-content/uploads/2012/05/Acid-Yellow-4.gif\" title=\"380.35, C.I.18695, C.I.Acid Yellow 4, C16H13N4NaO4S, CAS 6359-74-6, Tartrazine J, Yellow RN\" width=\"400\"/>]"
      ]
     },
     "execution_count": 16,
     "metadata": {},
     "output_type": "execute_result"
    }
   ],
   "source": [
    "mydivs"
   ]
  },
  {
   "cell_type": "code",
   "execution_count": 17,
   "id": "03e5d7fb",
   "metadata": {},
   "outputs": [],
   "source": [
    "mydivs = soup.find_all(\"img\", {\"class\": \"size-full\"})"
   ]
  },
  {
   "cell_type": "code",
   "execution_count": 35,
   "id": "38926d3b",
   "metadata": {},
   "outputs": [
    {
     "data": {
      "text/plain": [
       "'https://www.worlddyevariety.com/wp-content/uploads/2012/05/Acid-Yellow-4.gif'"
      ]
     },
     "execution_count": 35,
     "metadata": {},
     "output_type": "execute_result"
    }
   ],
   "source": [
    "mydivs[0]['src']"
   ]
  },
  {
   "cell_type": "code",
   "execution_count": 39,
   "id": "8a229c2e",
   "metadata": {},
   "outputs": [],
   "source": [
    "test=mydivs[0]['alt']"
   ]
  },
  {
   "cell_type": "code",
   "execution_count": 64,
   "id": "4555622b",
   "metadata": {},
   "outputs": [],
   "source": [
    "cas = re.search('\\d+-\\d+-\\d+',test)"
   ]
  },
  {
   "cell_type": "code",
   "execution_count": 65,
   "id": "4d413ee9",
   "metadata": {},
   "outputs": [
    {
     "data": {
      "text/plain": [
       "'6359-74-6'"
      ]
     },
     "execution_count": 65,
     "metadata": {},
     "output_type": "execute_result"
    }
   ],
   "source": [
    "cas[0]"
   ]
  },
  {
   "attachments": {},
   "cell_type": "markdown",
   "id": "f8aa82b2",
   "metadata": {},
   "source": [
    "# place all the dyes in a txt file\n"
   ]
  },
  {
   "cell_type": "code",
   "execution_count": 47,
   "id": "de040bed",
   "metadata": {},
   "outputs": [],
   "source": [
    "grand_links= []\n",
    "\n",
    "grand_links.append(linklist('acid','https://www.worlddyevariety.com/category/acid-dyes',160))\n",
    "grand_links.append(linklist('azoic','http://www.worlddyevariety.com/category/azoic-dyes',22))\n",
    "grand_links.append(linklist('basic','http://www.worlddyevariety.com/category/basic-dyes',37))\n",
    "grand_links.append(linklist('direct','http://www.worlddyevariety.com/category/direct-dyes',154))\n",
    "grand_links.append(linklist('disperse','http://www.worlddyevariety.com/category/disperse-dyes',110))\n",
    "grand_links.append(linklist('food','http://www.worlddyevariety.com/category/food-dyes',15))\n",
    "grand_links.append(linklist('mordant','http://www.worlddyevariety.com/category/mordant-dyes',51))\n",
    "grand_links.append(linklist('reactive','http://www.worlddyevariety.com/category/reactive-dyes',67))\n",
    "grand_links.append(linklist('solvent','http://www.worlddyevariety.com/category/solvent-dyes',90))\n",
    "grand_links.append(linklist('vat','http://www.worlddyevariety.com/category/vat-dyes',53))"
   ]
  },
  {
   "cell_type": "code",
   "execution_count": 51,
   "id": "8c926748",
   "metadata": {},
   "outputs": [],
   "source": [
    "with open('/home/matt/Proj/Dyes/Dyebrary/DyeScraping/DyeLinks.txt',mode='w') as f:\n",
    "     for item in grand_links:\n",
    "        # write each item on a new line\n",
    "        f.write(\"%s\\n\" % item)\n",
    "        \n",
    "\n"
   ]
  },
  {
   "cell_type": "code",
   "execution_count": 66,
   "id": "57d38a1d",
   "metadata": {},
   "outputs": [],
   "source": [
    "import requests\n",
    "import re\n",
    "from bs4 import BeautifulSoup\n",
    "def GetPicCAS(link):\n",
    "    page= requests.get(link)\n",
    "    soup= soup.find_all(\"img\", {\"class\": \"size-full\"})\n",
    "    img_link =  soup[0]['src']\n",
    "    CAS = re.search('\\d+-\\d+-\\d+',soup[0]['alt'])\n",
    "\n",
    "    return CAS, img_link\n",
    "    \n"
   ]
  },
  {
   "cell_type": "code",
   "execution_count": null,
   "id": "c0bacd12",
   "metadata": {},
   "outputs": [],
   "source": []
  }
 ],
 "metadata": {
  "kernelspec": {
   "display_name": "Webscrape",
   "language": "python",
   "name": "python3"
  },
  "language_info": {
   "codemirror_mode": {
    "name": "ipython",
    "version": 3
   },
   "file_extension": ".py",
   "mimetype": "text/x-python",
   "name": "python",
   "nbconvert_exporter": "python",
   "pygments_lexer": "ipython3",
   "version": "3.7.16"
  }
 },
 "nbformat": 4,
 "nbformat_minor": 5
}
